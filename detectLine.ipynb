{
 "cells": [
  {
   "cell_type": "code",
   "execution_count": null,
   "id": "03d7b801",
   "metadata": {},
   "outputs": [],
   "source": [
    "import cv2\n",
    "from matplotlib import pyplot as plt\n",
    "import numpy as np"
   ]
  },
  {
   "cell_type": "code",
   "execution_count": null,
   "id": "aed9d9b1",
   "metadata": {},
   "outputs": [],
   "source": [
    "img = cv2.imread(\"/Users/.../coin.png\")\n",
    "gray_image = cv2.cvtColor(img, cv2.COLOR_BGR2GRAY)\n",
    "#göreseli tanımladık ve gri bir renge dönüştürdük"
   ]
  },
  {
   "cell_type": "code",
   "execution_count": null,
   "id": "681e3631",
   "metadata": {},
   "outputs": [],
   "source": [
    "(thresh, output2) = cv2.threshold(gray_image, 120, 255, cv2.THRESH_BINARY)\n",
    "#belirli bir threshol değeri verdik bu değere göre görsel siyah yada beyaz oldu bu parametrelerle oynanabilir."
   ]
  },
  {
   "cell_type": "code",
   "execution_count": null,
   "id": "924a00f4",
   "metadata": {},
   "outputs": [],
   "source": [
    "(thresh, output2) = cv2.threshold(gray_image, 120, 255, cv2.THRESH_BINARY)\n",
    "#bulanıklaştırma işlemi yapılarak görseldeki gürültü azaltılır\n",
    "output2 = cv2.Canny(output2, 180, 255)\n",
    "#kenarların algılanması sağlanır\n",
    "\n",
    "plt.imshow(output2)\n",
    "plt.show()"
   ]
  },
  {
   "cell_type": "code",
   "execution_count": null,
   "id": "709e03d9",
   "metadata": {},
   "outputs": [],
   "source": []
  }
 ],
 "metadata": {
  "kernelspec": {
   "display_name": "Python 3 (ipykernel)",
   "language": "python",
   "name": "python3"
  },
  "language_info": {
   "codemirror_mode": {
    "name": "ipython",
    "version": 3
   },
   "file_extension": ".py",
   "mimetype": "text/x-python",
   "name": "python",
   "nbconvert_exporter": "python",
   "pygments_lexer": "ipython3",
   "version": "3.11.3"
  }
 },
 "nbformat": 4,
 "nbformat_minor": 5
}
